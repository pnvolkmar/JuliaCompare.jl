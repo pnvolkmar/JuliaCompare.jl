{
 "cells": [
  {
   "cell_type": "code",
   "execution_count": 2,
   "metadata": {},
   "outputs": [
    {
     "name": "stdout",
     "output_type": "stream",
     "text": [
      "cfilename is: 2020DB\n",
      "cfilename is: 2020DB cfile is: \\\\Silver\\c\\24.12.12 2020CanadaSycamore Upload\\2020Model\\Ref24\\2020db.dba\n",
      "cfilename is: CCalDB\n",
      "cfilename is: CCalDB cfile is: \\\\Silver\\c\\24.12.12 2020CanadaSycamore Upload\\2020Model\\Ref24\\Cinput.dba\n",
      "cfilename is: CInput\n",
      "cfilename is: CInput cfile is: \\\\Silver\\c\\24.12.12 2020CanadaSycamore Upload\\2020Model\\Ref24\\Cinput.dba\n",
      "cfilename is: COutput\n",
      "cfilename is: COutput cfile is: \\\\Silver\\c\\24.12.12 2020CanadaSycamore Upload\\2020Model\\Ref24\\Cinput.dba\n",
      "cfilename is: ECalDB\n",
      "cfilename is: ECalDB cfile is: \\\\Silver\\c\\24.12.12 2020CanadaSycamore Upload\\2020Model\\Ref24\\Einput.dba\n",
      "cfilename is: EGCalDB\n",
      "cfilename is: EGCalDB cfile is: \\\\Silver\\c\\24.12.12 2020CanadaSycamore Upload\\2020Model\\Ref24\\Einput.dba\n",
      "cfilename is: EGInput\n",
      "cfilename is: EGInput cfile is: \\\\Silver\\c\\24.12.12 2020CanadaSycamore Upload\\2020Model\\Ref24\\Einput.dba\n",
      "cfilename is: EGOutput\n",
      "cfilename is: EGOutput cfile is: \\\\Silver\\c\\24.12.12 2020CanadaSycamore Upload\\2020Model\\Ref24\\Einput.dba\n",
      "cfilename is: EInput\n",
      "cfilename is: EInput cfile is: \\\\Silver\\c\\24.12.12 2020CanadaSycamore Upload\\2020Model\\Ref24\\Einput.dba\n",
      "cfilename is: EOutput\n",
      "cfilename is: EOutput cfile is: \\\\Silver\\c\\24.12.12 2020CanadaSycamore Upload\\2020Model\\Ref24\\Einput.dba\n",
      "cfilename is: ICalDB\n",
      "cfilename is: ICalDB cfile is: \\\\Silver\\c\\24.12.12 2020CanadaSycamore Upload\\2020Model\\Ref24\\Iinput.dba\n",
      "cfilename is: IInput\n",
      "cfilename is: IInput cfile is: \\\\Silver\\c\\24.12.12 2020CanadaSycamore Upload\\2020Model\\Ref24\\Iinput.dba\n",
      "cfilename is: IOutput\n",
      "cfilename is: IOutput cfile is: \\\\Silver\\c\\24.12.12 2020CanadaSycamore Upload\\2020Model\\Ref24\\Iinput.dba\n",
      "cfilename is: MCalDB\n",
      "cfilename is: MCalDB cfile is: \\\\Silver\\c\\24.12.12 2020CanadaSycamore Upload\\2020Model\\Ref24\\Minput.dba\n",
      "cfilename is: MEInput\n",
      "cfilename is: MEInput cfile is: \\\\Silver\\c\\24.12.12 2020CanadaSycamore Upload\\2020Model\\Ref24\\Minput.dba\n",
      "cfilename is: MEOutput\n",
      "cfilename is: MEOutput cfile is: \\\\Silver\\c\\24.12.12 2020CanadaSycamore Upload\\2020Model\\Ref24\\Minput.dba\n",
      "cfilename is: Minput\n",
      "cfilename is: Minput cfile is: \\\\Silver\\c\\24.12.12 2020CanadaSycamore Upload\\2020Model\\Ref24\\Minput.dba\n",
      "cfilename is: Moutput\n",
      "cfilename is: Moutput cfile is: \\\\Silver\\c\\24.12.12 2020CanadaSycamore Upload\\2020Model\\Ref24\\Minput.dba\n",
      "cfilename is: RCalDB\n",
      "cfilename is: RCalDB cfile is: \\\\Silver\\c\\24.12.12 2020CanadaSycamore Upload\\2020Model\\Ref24\\Rinput.dba\n",
      "cfilename is: RInput\n",
      "cfilename is: RInput cfile is: \\\\Silver\\c\\24.12.12 2020CanadaSycamore Upload\\2020Model\\Ref24\\Rinput.dba\n",
      "cfilename is: ROutput\n",
      "cfilename is: ROutput cfile is: \\\\Silver\\c\\24.12.12 2020CanadaSycamore Upload\\2020Model\\Ref24\\Rinput.dba\n",
      "cfilename is: SCalDB\n",
      "cfilename is: SCalDB cfile is: \\\\Silver\\c\\24.12.12 2020CanadaSycamore Upload\\2020Model\\Ref24\\Sinput.dba\n",
      "cfilename is: Sinput\n",
      "cfilename is: Sinput cfile is: \\\\Silver\\c\\24.12.12 2020CanadaSycamore Upload\\2020Model\\Ref24\\Sinput.dba\n",
      "cfilename is: SOutput\n",
      "cfilename is: SOutput cfile is: \\\\Silver\\c\\24.12.12 2020CanadaSycamore Upload\\2020Model\\Ref24\\Sinput.dba\n",
      "cfilename is: SpInput\n",
      "cfilename is: SpInput cfile is: \\\\Silver\\c\\24.12.12 2020CanadaSycamore Upload\\2020Model\\Ref24\\Sinput.dba\n",
      "cfilename is: SpOutput\n",
      "cfilename is: SpOutput cfile is: \\\\Silver\\c\\24.12.12 2020CanadaSycamore Upload\\2020Model\\Ref24\\Sinput.dba\n",
      "cfilename is: TCalDB\n",
      "cfilename is: TCalDB cfile is: \\\\Silver\\c\\24.12.12 2020CanadaSycamore Upload\\2020Model\\Ref24\\Tinput.dba\n",
      "cfilename is: TInput\n",
      "cfilename is: TInput cfile is: \\\\Silver\\c\\24.12.12 2020CanadaSycamore Upload\\2020Model\\Ref24\\Tinput.dba\n",
      "cfilename is: TOutput\n",
      "cfilename is: TOutput cfile is: \\\\Silver\\c\\24.12.12 2020CanadaSycamore Upload\\2020Model\\Ref24\\Tinput.dba\n",
      "cfilename is: VBInput\n",
      "cfilename is: VBInput cfile is: \\\\Silver\\c\\24.12.12 2020CanadaSycamore Upload\\2020Model\\Ref24\\Vinput.dba\n",
      "cfilename is: vData_ElectricUnits\n",
      "cfilename is: vData_ElectricUnits cfile is: \\\\Silver\\c\\24.12.12 2020CanadaSycamore Upload\\2020Model\\Ref24\\2020db.dba\n"
     ]
    }
   ],
   "source": [
    "import JuliaCompare as J\n",
    "import PromulaDBA as P\n",
    "import JuliaCompare: db_files, Canada\n",
    "using CSV, DataFrames, DataFramesMeta\n",
    "\n",
    "BASE_FOLDER = raw\"\\\\Silver\\c\\24.12.12 2020CanadaSycamore Upload\"\n",
    "\n",
    "SCENARIO1 = \"Ref24\"\n",
    "\n",
    "CODE_FOLDER = joinpath(BASE_FOLDER, \"Engine\")\n",
    "DATA_FOLDER1 = joinpath(BASE_FOLDER, \"2020Model\", SCENARIO1)\n",
    "E2020_Folder = joinpath(BASE_FOLDER, \"2020Model\")\n",
    "\n",
    "vars = J.list_vars(CODE_FOLDER, DATA_FOLDER1, db_files);\n",
    "loc1 = J.Loc_p(vars, DATA_FOLDER1, \"Sycamore\");"
   ]
  },
  {
   "cell_type": "code",
   "execution_count": 4,
   "metadata": {},
   "outputs": [
    {
     "name": "stdout",
     "output_type": "stream",
     "text": [
      "fname is: \\\\Silver\\c\\24.12.12 2020CanadaSycamore Upload\\2020Model\\Ref24\\SOutput.dba\n"
     ]
    },
    {
     "data": {
      "text/html": [
       "<div><div style = \"float: left;\"><span>10×4 DataFrame</span></div><div style = \"clear: both;\"></div></div><div class = \"data-frame\" style = \"overflow-x: scroll;\"><table class = \"data-frame\" style = \"margin-bottom: 6px;\"><thead><tr class = \"header\"><th class = \"rowNumber\" style = \"font-weight: bold; text-align: right;\">Row</th><th style = \"text-align: left;\">ECC</th><th style = \"text-align: left;\">Area</th><th style = \"text-align: left;\">Year</th><th style = \"text-align: left;\">PInv</th></tr><tr class = \"subheader headerLastRow\"><th class = \"rowNumber\" style = \"font-weight: bold; text-align: right;\"></th><th title = \"String\" style = \"text-align: left;\">String</th><th title = \"String\" style = \"text-align: left;\">String</th><th title = \"Int64\" style = \"text-align: left;\">Int64</th><th title = \"Float64\" style = \"text-align: left;\">Float64</th></tr></thead><tbody><tr><td class = \"rowNumber\" style = \"font-weight: bold; text-align: right;\">1</td><td style = \"text-align: left;\">SingleFamilyDetached</td><td style = \"text-align: left;\">ON</td><td style = \"text-align: right;\">1985</td><td style = \"text-align: right;\">0.0</td></tr><tr><td class = \"rowNumber\" style = \"font-weight: bold; text-align: right;\">2</td><td style = \"text-align: left;\">SingleFamilyAttached</td><td style = \"text-align: left;\">ON</td><td style = \"text-align: right;\">1985</td><td style = \"text-align: right;\">0.0</td></tr><tr><td class = \"rowNumber\" style = \"font-weight: bold; text-align: right;\">3</td><td style = \"text-align: left;\">MultiFamily</td><td style = \"text-align: left;\">ON</td><td style = \"text-align: right;\">1985</td><td style = \"text-align: right;\">0.0</td></tr><tr><td class = \"rowNumber\" style = \"font-weight: bold; text-align: right;\">4</td><td style = \"text-align: left;\">OtherResidential</td><td style = \"text-align: left;\">ON</td><td style = \"text-align: right;\">1985</td><td style = \"text-align: right;\">0.0</td></tr><tr><td class = \"rowNumber\" style = \"font-weight: bold; text-align: right;\">5</td><td style = \"text-align: left;\">Wholesale</td><td style = \"text-align: left;\">ON</td><td style = \"text-align: right;\">1985</td><td style = \"text-align: right;\">0.0</td></tr><tr><td class = \"rowNumber\" style = \"font-weight: bold; text-align: right;\">6</td><td style = \"text-align: left;\">Retail</td><td style = \"text-align: left;\">ON</td><td style = \"text-align: right;\">1985</td><td style = \"text-align: right;\">0.0</td></tr><tr><td class = \"rowNumber\" style = \"font-weight: bold; text-align: right;\">7</td><td style = \"text-align: left;\">Warehouse</td><td style = \"text-align: left;\">ON</td><td style = \"text-align: right;\">1985</td><td style = \"text-align: right;\">0.0</td></tr><tr><td class = \"rowNumber\" style = \"font-weight: bold; text-align: right;\">8</td><td style = \"text-align: left;\">Information</td><td style = \"text-align: left;\">ON</td><td style = \"text-align: right;\">1985</td><td style = \"text-align: right;\">0.0</td></tr><tr><td class = \"rowNumber\" style = \"font-weight: bold; text-align: right;\">9</td><td style = \"text-align: left;\">Offices</td><td style = \"text-align: left;\">ON</td><td style = \"text-align: right;\">1985</td><td style = \"text-align: right;\">0.0</td></tr><tr><td class = \"rowNumber\" style = \"font-weight: bold; text-align: right;\">10</td><td style = \"text-align: left;\">Education</td><td style = \"text-align: left;\">ON</td><td style = \"text-align: right;\">1985</td><td style = \"text-align: right;\">0.0</td></tr></tbody></table></div>"
      ],
      "text/latex": [
       "\\begin{tabular}{r|cccc}\n",
       "\t& ECC & Area & Year & PInv\\\\\n",
       "\t\\hline\n",
       "\t& String & String & Int64 & Float64\\\\\n",
       "\t\\hline\n",
       "\t1 & SingleFamilyDetached & ON & 1985 & 0.0 \\\\\n",
       "\t2 & SingleFamilyAttached & ON & 1985 & 0.0 \\\\\n",
       "\t3 & MultiFamily & ON & 1985 & 0.0 \\\\\n",
       "\t4 & OtherResidential & ON & 1985 & 0.0 \\\\\n",
       "\t5 & Wholesale & ON & 1985 & 0.0 \\\\\n",
       "\t6 & Retail & ON & 1985 & 0.0 \\\\\n",
       "\t7 & Warehouse & ON & 1985 & 0.0 \\\\\n",
       "\t8 & Information & ON & 1985 & 0.0 \\\\\n",
       "\t9 & Offices & ON & 1985 & 0.0 \\\\\n",
       "\t10 & Education & ON & 1985 & 0.0 \\\\\n",
       "\\end{tabular}\n"
      ],
      "text/plain": [
       "\u001b[1m10×4 DataFrame\u001b[0m\n",
       "\u001b[1m Row \u001b[0m│\u001b[1m ECC                  \u001b[0m\u001b[1m Area   \u001b[0m\u001b[1m Year  \u001b[0m\u001b[1m PInv    \u001b[0m\n",
       "     │\u001b[90m String               \u001b[0m\u001b[90m String \u001b[0m\u001b[90m Int64 \u001b[0m\u001b[90m Float64 \u001b[0m\n",
       "─────┼──────────────────────────────────────────────\n",
       "   1 │ SingleFamilyDetached  ON       1985      0.0\n",
       "   2 │ SingleFamilyAttached  ON       1985      0.0\n",
       "   3 │ MultiFamily           ON       1985      0.0\n",
       "   4 │ OtherResidential      ON       1985      0.0\n",
       "   5 │ Wholesale             ON       1985      0.0\n",
       "   6 │ Retail                ON       1985      0.0\n",
       "   7 │ Warehouse             ON       1985      0.0\n",
       "   8 │ Information           ON       1985      0.0\n",
       "   9 │ Offices               ON       1985      0.0\n",
       "  10 │ Education             ON       1985      0.0"
      ]
     },
     "metadata": {},
     "output_type": "display_data"
    }
   ],
   "source": [
    "df = J.var(\"PInv\", loc1)\n",
    "first(df, 10)"
   ]
  },
  {
   "cell_type": "code",
   "execution_count": 6,
   "metadata": {},
   "outputs": [
    {
     "data": {
      "text/html": [
       "<div><div style = \"float: left;\"><span>130×4 DataFrame</span></div><div style = \"float: right;\"><span style = \"font-style: italic;\">105 rows omitted</span></div><div style = \"clear: both;\"></div></div><div class = \"data-frame\" style = \"overflow-x: scroll;\"><table class = \"data-frame\" style = \"margin-bottom: 6px;\"><thead><tr class = \"header\"><th class = \"rowNumber\" style = \"font-weight: bold; text-align: right;\">Row</th><th style = \"text-align: left;\">ECC</th><th style = \"text-align: left;\">Area</th><th style = \"text-align: left;\">Year</th><th style = \"text-align: left;\">PInv</th></tr><tr class = \"subheader headerLastRow\"><th class = \"rowNumber\" style = \"font-weight: bold; text-align: right;\"></th><th title = \"String\" style = \"text-align: left;\">String</th><th title = \"String\" style = \"text-align: left;\">String</th><th title = \"Int64\" style = \"text-align: left;\">Int64</th><th title = \"Float64\" style = \"text-align: left;\">Float64</th></tr></thead><tbody><tr><td class = \"rowNumber\" style = \"font-weight: bold; text-align: right;\">1</td><td style = \"text-align: left;\">IronSteel</td><td style = \"text-align: left;\">NS</td><td style = \"text-align: right;\">1986</td><td style = \"text-align: right;\">NaN</td></tr><tr><td class = \"rowNumber\" style = \"font-weight: bold; text-align: right;\">2</td><td style = \"text-align: left;\">Petrochemicals</td><td style = \"text-align: left;\">NEng</td><td style = \"text-align: right;\">1986</td><td style = \"text-align: right;\">NaN</td></tr><tr><td class = \"rowNumber\" style = \"font-weight: bold; text-align: right;\">3</td><td style = \"text-align: left;\">IronSteel</td><td style = \"text-align: left;\">NS</td><td style = \"text-align: right;\">1987</td><td style = \"text-align: right;\">NaN</td></tr><tr><td class = \"rowNumber\" style = \"font-weight: bold; text-align: right;\">4</td><td style = \"text-align: left;\">Petrochemicals</td><td style = \"text-align: left;\">NEng</td><td style = \"text-align: right;\">1987</td><td style = \"text-align: right;\">NaN</td></tr><tr><td class = \"rowNumber\" style = \"font-weight: bold; text-align: right;\">5</td><td style = \"text-align: left;\">IronSteel</td><td style = \"text-align: left;\">NS</td><td style = \"text-align: right;\">1988</td><td style = \"text-align: right;\">NaN</td></tr><tr><td class = \"rowNumber\" style = \"font-weight: bold; text-align: right;\">6</td><td style = \"text-align: left;\">Petrochemicals</td><td style = \"text-align: left;\">NEng</td><td style = \"text-align: right;\">1988</td><td style = \"text-align: right;\">NaN</td></tr><tr><td class = \"rowNumber\" style = \"font-weight: bold; text-align: right;\">7</td><td style = \"text-align: left;\">IronSteel</td><td style = \"text-align: left;\">NS</td><td style = \"text-align: right;\">1989</td><td style = \"text-align: right;\">NaN</td></tr><tr><td class = \"rowNumber\" style = \"font-weight: bold; text-align: right;\">8</td><td style = \"text-align: left;\">Petrochemicals</td><td style = \"text-align: left;\">NEng</td><td style = \"text-align: right;\">1989</td><td style = \"text-align: right;\">NaN</td></tr><tr><td class = \"rowNumber\" style = \"font-weight: bold; text-align: right;\">9</td><td style = \"text-align: left;\">IronSteel</td><td style = \"text-align: left;\">NS</td><td style = \"text-align: right;\">1990</td><td style = \"text-align: right;\">NaN</td></tr><tr><td class = \"rowNumber\" style = \"font-weight: bold; text-align: right;\">10</td><td style = \"text-align: left;\">Petrochemicals</td><td style = \"text-align: left;\">NEng</td><td style = \"text-align: right;\">1990</td><td style = \"text-align: right;\">NaN</td></tr><tr><td class = \"rowNumber\" style = \"font-weight: bold; text-align: right;\">11</td><td style = \"text-align: left;\">IronSteel</td><td style = \"text-align: left;\">NS</td><td style = \"text-align: right;\">1991</td><td style = \"text-align: right;\">NaN</td></tr><tr><td class = \"rowNumber\" style = \"font-weight: bold; text-align: right;\">12</td><td style = \"text-align: left;\">Petrochemicals</td><td style = \"text-align: left;\">NEng</td><td style = \"text-align: right;\">1991</td><td style = \"text-align: right;\">NaN</td></tr><tr><td class = \"rowNumber\" style = \"font-weight: bold; text-align: right;\">13</td><td style = \"text-align: left;\">IronSteel</td><td style = \"text-align: left;\">NS</td><td style = \"text-align: right;\">1992</td><td style = \"text-align: right;\">NaN</td></tr><tr><td style = \"text-align: right;\">&vellip;</td><td style = \"text-align: right;\">&vellip;</td><td style = \"text-align: right;\">&vellip;</td><td style = \"text-align: right;\">&vellip;</td><td style = \"text-align: right;\">&vellip;</td></tr><tr><td class = \"rowNumber\" style = \"font-weight: bold; text-align: right;\">119</td><td style = \"text-align: left;\">IronSteel</td><td style = \"text-align: left;\">NS</td><td style = \"text-align: right;\">2045</td><td style = \"text-align: right;\">NaN</td></tr><tr><td class = \"rowNumber\" style = \"font-weight: bold; text-align: right;\">120</td><td style = \"text-align: left;\">Petrochemicals</td><td style = \"text-align: left;\">NEng</td><td style = \"text-align: right;\">2045</td><td style = \"text-align: right;\">NaN</td></tr><tr><td class = \"rowNumber\" style = \"font-weight: bold; text-align: right;\">121</td><td style = \"text-align: left;\">IronSteel</td><td style = \"text-align: left;\">NS</td><td style = \"text-align: right;\">2046</td><td style = \"text-align: right;\">NaN</td></tr><tr><td class = \"rowNumber\" style = \"font-weight: bold; text-align: right;\">122</td><td style = \"text-align: left;\">Petrochemicals</td><td style = \"text-align: left;\">NEng</td><td style = \"text-align: right;\">2046</td><td style = \"text-align: right;\">NaN</td></tr><tr><td class = \"rowNumber\" style = \"font-weight: bold; text-align: right;\">123</td><td style = \"text-align: left;\">IronSteel</td><td style = \"text-align: left;\">NS</td><td style = \"text-align: right;\">2047</td><td style = \"text-align: right;\">NaN</td></tr><tr><td class = \"rowNumber\" style = \"font-weight: bold; text-align: right;\">124</td><td style = \"text-align: left;\">Petrochemicals</td><td style = \"text-align: left;\">NEng</td><td style = \"text-align: right;\">2047</td><td style = \"text-align: right;\">NaN</td></tr><tr><td class = \"rowNumber\" style = \"font-weight: bold; text-align: right;\">125</td><td style = \"text-align: left;\">IronSteel</td><td style = \"text-align: left;\">NS</td><td style = \"text-align: right;\">2048</td><td style = \"text-align: right;\">NaN</td></tr><tr><td class = \"rowNumber\" style = \"font-weight: bold; text-align: right;\">126</td><td style = \"text-align: left;\">Petrochemicals</td><td style = \"text-align: left;\">NEng</td><td style = \"text-align: right;\">2048</td><td style = \"text-align: right;\">NaN</td></tr><tr><td class = \"rowNumber\" style = \"font-weight: bold; text-align: right;\">127</td><td style = \"text-align: left;\">IronSteel</td><td style = \"text-align: left;\">NS</td><td style = \"text-align: right;\">2049</td><td style = \"text-align: right;\">NaN</td></tr><tr><td class = \"rowNumber\" style = \"font-weight: bold; text-align: right;\">128</td><td style = \"text-align: left;\">Petrochemicals</td><td style = \"text-align: left;\">NEng</td><td style = \"text-align: right;\">2049</td><td style = \"text-align: right;\">NaN</td></tr><tr><td class = \"rowNumber\" style = \"font-weight: bold; text-align: right;\">129</td><td style = \"text-align: left;\">IronSteel</td><td style = \"text-align: left;\">NS</td><td style = \"text-align: right;\">2050</td><td style = \"text-align: right;\">NaN</td></tr><tr><td class = \"rowNumber\" style = \"font-weight: bold; text-align: right;\">130</td><td style = \"text-align: left;\">Petrochemicals</td><td style = \"text-align: left;\">NEng</td><td style = \"text-align: right;\">2050</td><td style = \"text-align: right;\">NaN</td></tr></tbody></table></div>"
      ],
      "text/latex": [
       "\\begin{tabular}{r|cccc}\n",
       "\t& ECC & Area & Year & PInv\\\\\n",
       "\t\\hline\n",
       "\t& String & String & Int64 & Float64\\\\\n",
       "\t\\hline\n",
       "\t1 & IronSteel & NS & 1986 & NaN \\\\\n",
       "\t2 & Petrochemicals & NEng & 1986 & NaN \\\\\n",
       "\t3 & IronSteel & NS & 1987 & NaN \\\\\n",
       "\t4 & Petrochemicals & NEng & 1987 & NaN \\\\\n",
       "\t5 & IronSteel & NS & 1988 & NaN \\\\\n",
       "\t6 & Petrochemicals & NEng & 1988 & NaN \\\\\n",
       "\t7 & IronSteel & NS & 1989 & NaN \\\\\n",
       "\t8 & Petrochemicals & NEng & 1989 & NaN \\\\\n",
       "\t9 & IronSteel & NS & 1990 & NaN \\\\\n",
       "\t10 & Petrochemicals & NEng & 1990 & NaN \\\\\n",
       "\t11 & IronSteel & NS & 1991 & NaN \\\\\n",
       "\t12 & Petrochemicals & NEng & 1991 & NaN \\\\\n",
       "\t13 & IronSteel & NS & 1992 & NaN \\\\\n",
       "\t14 & Petrochemicals & NEng & 1992 & NaN \\\\\n",
       "\t15 & IronSteel & NS & 1993 & NaN \\\\\n",
       "\t16 & Petrochemicals & NEng & 1993 & NaN \\\\\n",
       "\t17 & IronSteel & NS & 1994 & NaN \\\\\n",
       "\t18 & Petrochemicals & NEng & 1994 & NaN \\\\\n",
       "\t19 & IronSteel & NS & 1995 & NaN \\\\\n",
       "\t20 & Petrochemicals & NEng & 1995 & NaN \\\\\n",
       "\t21 & IronSteel & NS & 1996 & NaN \\\\\n",
       "\t22 & Petrochemicals & NEng & 1996 & NaN \\\\\n",
       "\t23 & IronSteel & NS & 1997 & NaN \\\\\n",
       "\t24 & Petrochemicals & NEng & 1997 & NaN \\\\\n",
       "\t$\\dots$ & $\\dots$ & $\\dots$ & $\\dots$ & $\\dots$ \\\\\n",
       "\\end{tabular}\n"
      ],
      "text/plain": [
       "\u001b[1m130×4 DataFrame\u001b[0m\n",
       "\u001b[1m Row \u001b[0m│\u001b[1m ECC            \u001b[0m\u001b[1m Area   \u001b[0m\u001b[1m Year  \u001b[0m\u001b[1m PInv    \u001b[0m\n",
       "     │\u001b[90m String         \u001b[0m\u001b[90m String \u001b[0m\u001b[90m Int64 \u001b[0m\u001b[90m Float64 \u001b[0m\n",
       "─────┼────────────────────────────────────────\n",
       "   1 │ IronSteel       NS       1986      NaN\n",
       "   2 │ Petrochemicals  NEng     1986      NaN\n",
       "   3 │ IronSteel       NS       1987      NaN\n",
       "   4 │ Petrochemicals  NEng     1987      NaN\n",
       "   5 │ IronSteel       NS       1988      NaN\n",
       "   6 │ Petrochemicals  NEng     1988      NaN\n",
       "   7 │ IronSteel       NS       1989      NaN\n",
       "   8 │ Petrochemicals  NEng     1989      NaN\n",
       "  ⋮  │       ⋮           ⋮       ⋮       ⋮\n",
       " 124 │ Petrochemicals  NEng     2047      NaN\n",
       " 125 │ IronSteel       NS       2048      NaN\n",
       " 126 │ Petrochemicals  NEng     2048      NaN\n",
       " 127 │ IronSteel       NS       2049      NaN\n",
       " 128 │ Petrochemicals  NEng     2049      NaN\n",
       " 129 │ IronSteel       NS       2050      NaN\n",
       " 130 │ Petrochemicals  NEng     2050      NaN\n",
       "\u001b[36m                              115 rows omitted\u001b[0m"
      ]
     },
     "metadata": {},
     "output_type": "display_data"
    }
   ],
   "source": [
    "@rsubset! df isnan(:PInv)"
   ]
  },
  {
   "cell_type": "code",
   "execution_count": 7,
   "metadata": {},
   "outputs": [
    {
     "name": "stdout",
     "output_type": "stream",
     "text": [
      "fname is: \\\\Silver\\c\\24.12.12 2020CanadaSycamore Upload\\2020Model\\Ref24\\IOutput.dba\n"
     ]
    }
   ],
   "source": [
    "PCTC = J.var(\"IOutput/PCTC\", loc1);\n"
   ]
  },
  {
   "cell_type": "code",
   "execution_count": 8,
   "metadata": {},
   "outputs": [
    {
     "data": {
      "text/html": [
       "<div><div style = \"float: left;\"><span>20×6 DataFrame</span></div><div style = \"clear: both;\"></div></div><div class = \"data-frame\" style = \"overflow-x: scroll;\"><table class = \"data-frame\" style = \"margin-bottom: 6px;\"><thead><tr class = \"header\"><th class = \"rowNumber\" style = \"font-weight: bold; text-align: right;\">Row</th><th style = \"text-align: left;\">Enduse</th><th style = \"text-align: left;\">Tech</th><th style = \"text-align: left;\">EC</th><th style = \"text-align: left;\">Area</th><th style = \"text-align: left;\">Year</th><th style = \"text-align: left;\">PCTC</th></tr><tr class = \"subheader headerLastRow\"><th class = \"rowNumber\" style = \"font-weight: bold; text-align: right;\"></th><th title = \"String\" style = \"text-align: left;\">String</th><th title = \"String\" style = \"text-align: left;\">String</th><th title = \"String\" style = \"text-align: left;\">String</th><th title = \"String\" style = \"text-align: left;\">String</th><th title = \"Int64\" style = \"text-align: left;\">Int64</th><th title = \"Float64\" style = \"text-align: left;\">Float64</th></tr></thead><tbody><tr><td class = \"rowNumber\" style = \"font-weight: bold; text-align: right;\">1</td><td style = \"text-align: left;\">Heat</td><td style = \"text-align: left;\">LPG</td><td style = \"text-align: left;\">Petrochemicals</td><td style = \"text-align: left;\">NEng</td><td style = \"text-align: right;\">1990</td><td style = \"text-align: right;\">-0.000145279</td></tr><tr><td class = \"rowNumber\" style = \"font-weight: bold; text-align: right;\">2</td><td style = \"text-align: left;\">Heat</td><td style = \"text-align: left;\">Electric</td><td style = \"text-align: left;\">Petrochemicals</td><td style = \"text-align: left;\">NEng</td><td style = \"text-align: right;\">1990</td><td style = \"text-align: right;\">-0.000241562</td></tr><tr><td class = \"rowNumber\" style = \"font-weight: bold; text-align: right;\">3</td><td style = \"text-align: left;\">Heat</td><td style = \"text-align: left;\">Gas</td><td style = \"text-align: left;\">Petrochemicals</td><td style = \"text-align: left;\">NEng</td><td style = \"text-align: right;\">1990</td><td style = \"text-align: right;\">-0.000350319</td></tr><tr><td class = \"rowNumber\" style = \"font-weight: bold; text-align: right;\">4</td><td style = \"text-align: left;\">Heat</td><td style = \"text-align: left;\">Oil</td><td style = \"text-align: left;\">Petrochemicals</td><td style = \"text-align: left;\">NEng</td><td style = \"text-align: right;\">1990</td><td style = \"text-align: right;\">-0.000423237</td></tr><tr><td class = \"rowNumber\" style = \"font-weight: bold; text-align: right;\">5</td><td style = \"text-align: left;\">Heat</td><td style = \"text-align: left;\">Coal</td><td style = \"text-align: left;\">Petrochemicals</td><td style = \"text-align: left;\">NEng</td><td style = \"text-align: right;\">1990</td><td style = \"text-align: right;\">-0.000567305</td></tr><tr><td class = \"rowNumber\" style = \"font-weight: bold; text-align: right;\">6</td><td style = \"text-align: left;\">Heat</td><td style = \"text-align: left;\">Biomass</td><td style = \"text-align: left;\">IronSteel</td><td style = \"text-align: left;\">YT</td><td style = \"text-align: right;\">1990</td><td style = \"text-align: right;\">-0.000896219</td></tr><tr><td class = \"rowNumber\" style = \"font-weight: bold; text-align: right;\">7</td><td style = \"text-align: left;\">Heat</td><td style = \"text-align: left;\">Biomass</td><td style = \"text-align: left;\">IronSteel</td><td style = \"text-align: left;\">NT</td><td style = \"text-align: right;\">1990</td><td style = \"text-align: right;\">-0.000896219</td></tr><tr><td class = \"rowNumber\" style = \"font-weight: bold; text-align: right;\">8</td><td style = \"text-align: left;\">Heat</td><td style = \"text-align: left;\">Biomass</td><td style = \"text-align: left;\">IronSteel</td><td style = \"text-align: left;\">NU</td><td style = \"text-align: right;\">1990</td><td style = \"text-align: right;\">-0.000896219</td></tr><tr><td class = \"rowNumber\" style = \"font-weight: bold; text-align: right;\">9</td><td style = \"text-align: left;\">Heat</td><td style = \"text-align: left;\">Biomass</td><td style = \"text-align: left;\">IronSteel</td><td style = \"text-align: left;\">ROW</td><td style = \"text-align: right;\">1990</td><td style = \"text-align: right;\">-0.000896219</td></tr><tr><td class = \"rowNumber\" style = \"font-weight: bold; text-align: right;\">10</td><td style = \"text-align: left;\">Heat</td><td style = \"text-align: left;\">Oil</td><td style = \"text-align: left;\">Aluminum</td><td style = \"text-align: left;\">NL</td><td style = \"text-align: right;\">1990</td><td style = \"text-align: right;\">-0.00267322</td></tr><tr><td class = \"rowNumber\" style = \"font-weight: bold; text-align: right;\">11</td><td style = \"text-align: left;\">Heat</td><td style = \"text-align: left;\">Oil</td><td style = \"text-align: left;\">Aluminum</td><td style = \"text-align: left;\">PE</td><td style = \"text-align: right;\">1990</td><td style = \"text-align: right;\">-0.00267322</td></tr><tr><td class = \"rowNumber\" style = \"font-weight: bold; text-align: right;\">12</td><td style = \"text-align: left;\">Heat</td><td style = \"text-align: left;\">Oil</td><td style = \"text-align: left;\">Aluminum</td><td style = \"text-align: left;\">YT</td><td style = \"text-align: right;\">1990</td><td style = \"text-align: right;\">-0.00267322</td></tr><tr><td class = \"rowNumber\" style = \"font-weight: bold; text-align: right;\">13</td><td style = \"text-align: left;\">Heat</td><td style = \"text-align: left;\">Oil</td><td style = \"text-align: left;\">Aluminum</td><td style = \"text-align: left;\">NT</td><td style = \"text-align: right;\">1990</td><td style = \"text-align: right;\">-0.00267322</td></tr><tr><td class = \"rowNumber\" style = \"font-weight: bold; text-align: right;\">14</td><td style = \"text-align: left;\">Heat</td><td style = \"text-align: left;\">Oil</td><td style = \"text-align: left;\">Aluminum</td><td style = \"text-align: left;\">NU</td><td style = \"text-align: right;\">1990</td><td style = \"text-align: right;\">-0.00267322</td></tr><tr><td class = \"rowNumber\" style = \"font-weight: bold; text-align: right;\">15</td><td style = \"text-align: left;\">Heat</td><td style = \"text-align: left;\">Oil</td><td style = \"text-align: left;\">Aluminum</td><td style = \"text-align: left;\">ROW</td><td style = \"text-align: right;\">1990</td><td style = \"text-align: right;\">-0.00267322</td></tr><tr><td class = \"rowNumber\" style = \"font-weight: bold; text-align: right;\">16</td><td style = \"text-align: left;\">Heat</td><td style = \"text-align: left;\">LPG</td><td style = \"text-align: left;\">Aluminum</td><td style = \"text-align: left;\">NL</td><td style = \"text-align: right;\">1990</td><td style = \"text-align: right;\">-0.00273396</td></tr><tr><td class = \"rowNumber\" style = \"font-weight: bold; text-align: right;\">17</td><td style = \"text-align: left;\">Heat</td><td style = \"text-align: left;\">LPG</td><td style = \"text-align: left;\">Aluminum</td><td style = \"text-align: left;\">PE</td><td style = \"text-align: right;\">1990</td><td style = \"text-align: right;\">-0.00273396</td></tr><tr><td class = \"rowNumber\" style = \"font-weight: bold; text-align: right;\">18</td><td style = \"text-align: left;\">Heat</td><td style = \"text-align: left;\">LPG</td><td style = \"text-align: left;\">Aluminum</td><td style = \"text-align: left;\">YT</td><td style = \"text-align: right;\">1990</td><td style = \"text-align: right;\">-0.00273396</td></tr><tr><td class = \"rowNumber\" style = \"font-weight: bold; text-align: right;\">19</td><td style = \"text-align: left;\">Heat</td><td style = \"text-align: left;\">LPG</td><td style = \"text-align: left;\">Aluminum</td><td style = \"text-align: left;\">NT</td><td style = \"text-align: right;\">1990</td><td style = \"text-align: right;\">-0.00273396</td></tr><tr><td class = \"rowNumber\" style = \"font-weight: bold; text-align: right;\">20</td><td style = \"text-align: left;\">Heat</td><td style = \"text-align: left;\">LPG</td><td style = \"text-align: left;\">Aluminum</td><td style = \"text-align: left;\">NU</td><td style = \"text-align: right;\">1990</td><td style = \"text-align: right;\">-0.00273396</td></tr></tbody></table></div>"
      ],
      "text/latex": [
       "\\begin{tabular}{r|cccccc}\n",
       "\t& Enduse & Tech & EC & Area & Year & PCTC\\\\\n",
       "\t\\hline\n",
       "\t& String & String & String & String & Int64 & Float64\\\\\n",
       "\t\\hline\n",
       "\t1 & Heat & LPG & Petrochemicals & NEng & 1990 & -0.000145279 \\\\\n",
       "\t2 & Heat & Electric & Petrochemicals & NEng & 1990 & -0.000241562 \\\\\n",
       "\t3 & Heat & Gas & Petrochemicals & NEng & 1990 & -0.000350319 \\\\\n",
       "\t4 & Heat & Oil & Petrochemicals & NEng & 1990 & -0.000423237 \\\\\n",
       "\t5 & Heat & Coal & Petrochemicals & NEng & 1990 & -0.000567305 \\\\\n",
       "\t6 & Heat & Biomass & IronSteel & YT & 1990 & -0.000896219 \\\\\n",
       "\t7 & Heat & Biomass & IronSteel & NT & 1990 & -0.000896219 \\\\\n",
       "\t8 & Heat & Biomass & IronSteel & NU & 1990 & -0.000896219 \\\\\n",
       "\t9 & Heat & Biomass & IronSteel & ROW & 1990 & -0.000896219 \\\\\n",
       "\t10 & Heat & Oil & Aluminum & NL & 1990 & -0.00267322 \\\\\n",
       "\t11 & Heat & Oil & Aluminum & PE & 1990 & -0.00267322 \\\\\n",
       "\t12 & Heat & Oil & Aluminum & YT & 1990 & -0.00267322 \\\\\n",
       "\t13 & Heat & Oil & Aluminum & NT & 1990 & -0.00267322 \\\\\n",
       "\t14 & Heat & Oil & Aluminum & NU & 1990 & -0.00267322 \\\\\n",
       "\t15 & Heat & Oil & Aluminum & ROW & 1990 & -0.00267322 \\\\\n",
       "\t16 & Heat & LPG & Aluminum & NL & 1990 & -0.00273396 \\\\\n",
       "\t17 & Heat & LPG & Aluminum & PE & 1990 & -0.00273396 \\\\\n",
       "\t18 & Heat & LPG & Aluminum & YT & 1990 & -0.00273396 \\\\\n",
       "\t19 & Heat & LPG & Aluminum & NT & 1990 & -0.00273396 \\\\\n",
       "\t20 & Heat & LPG & Aluminum & NU & 1990 & -0.00273396 \\\\\n",
       "\\end{tabular}\n"
      ],
      "text/plain": [
       "\u001b[1m20×6 DataFrame\u001b[0m\n",
       "\u001b[1m Row \u001b[0m│\u001b[1m Enduse \u001b[0m\u001b[1m Tech     \u001b[0m\u001b[1m EC             \u001b[0m\u001b[1m Area   \u001b[0m\u001b[1m Year  \u001b[0m\u001b[1m PCTC         \u001b[0m\n",
       "     │\u001b[90m String \u001b[0m\u001b[90m String   \u001b[0m\u001b[90m String         \u001b[0m\u001b[90m String \u001b[0m\u001b[90m Int64 \u001b[0m\u001b[90m Float64      \u001b[0m\n",
       "─────┼───────────────────────────────────────────────────────────────\n",
       "   1 │ Heat    LPG       Petrochemicals  NEng     1990  -0.000145279\n",
       "   2 │ Heat    Electric  Petrochemicals  NEng     1990  -0.000241562\n",
       "   3 │ Heat    Gas       Petrochemicals  NEng     1990  -0.000350319\n",
       "   4 │ Heat    Oil       Petrochemicals  NEng     1990  -0.000423237\n",
       "   5 │ Heat    Coal      Petrochemicals  NEng     1990  -0.000567305\n",
       "   6 │ Heat    Biomass   IronSteel       YT       1990  -0.000896219\n",
       "   7 │ Heat    Biomass   IronSteel       NT       1990  -0.000896219\n",
       "   8 │ Heat    Biomass   IronSteel       NU       1990  -0.000896219\n",
       "  ⋮  │   ⋮        ⋮            ⋮           ⋮       ⋮         ⋮\n",
       "  14 │ Heat    Oil       Aluminum        NU       1990  -0.00267322\n",
       "  15 │ Heat    Oil       Aluminum        ROW      1990  -0.00267322\n",
       "  16 │ Heat    LPG       Aluminum        NL       1990  -0.00273396\n",
       "  17 │ Heat    LPG       Aluminum        PE       1990  -0.00273396\n",
       "  18 │ Heat    LPG       Aluminum        YT       1990  -0.00273396\n",
       "  19 │ Heat    LPG       Aluminum        NT       1990  -0.00273396\n",
       "  20 │ Heat    LPG       Aluminum        NU       1990  -0.00273396\n",
       "\u001b[36m                                                       5 rows omitted\u001b[0m"
      ]
     },
     "metadata": {},
     "output_type": "display_data"
    }
   ],
   "source": [
    "df = @rsubset PCTC :Enduse == \"Heat\" :PCTC != 0 :PCTC > -1 :Year == 1990\n",
    "df = @orderby df -:PCTC\n",
    "first(df, 20)\n"
   ]
  },
  {
   "cell_type": "code",
   "execution_count": null,
   "metadata": {},
   "outputs": [],
   "source": [
    "@rsubset PCTC :Enduse == \"Heat\" :EC == \"IronSteel\" :Area == \"NS\" :Tech == \"Biomass\""
   ]
  },
  {
   "cell_type": "code",
   "execution_count": null,
   "metadata": {},
   "outputs": [],
   "source": [
    "@rsubset! df :Year == 1986 :EC == \"IronSteel\" :Area == \"NS\""
   ]
  },
  {
   "cell_type": "code",
   "execution_count": null,
   "metadata": {},
   "outputs": [],
   "source": [
    "df = J.diff(\"EuPol\", loc1, loc2)\n",
    "@rsubset! df :Diff != 0\n",
    "J.plot_diff(df; dim=\"ECC\", num=3, title = \"EuPol differences by ECC\")\n",
    "@rsubset! df :ECC == \"IronSteel\"\n",
    "J.plot_diff(df; dim=\"Area\", num=10, title = \"IronSteel diffs by area\")"
   ]
  },
  {
   "cell_type": "code",
   "execution_count": null,
   "metadata": {},
   "outputs": [],
   "source": [
    "@rsubset! df :Area == \"NS\" :Year <1987"
   ]
  },
  {
   "cell_type": "code",
   "execution_count": null,
   "metadata": {},
   "outputs": [],
   "source": [
    "eufpol = J.diff(\"EuFPol\", loc1, loc2)\n"
   ]
  },
  {
   "cell_type": "code",
   "execution_count": null,
   "metadata": {},
   "outputs": [],
   "source": [
    "@rsubset! eufpol :Year < 1987 :Area == \"NS\" :ECC == \"IronSteel\" :Diff != 0\n",
    "first(eufpol, 5)\n"
   ]
  },
  {
   "cell_type": "code",
   "execution_count": null,
   "metadata": {},
   "outputs": [],
   "source": [
    "@by(eufpol,\n",
    "  :Poll,\n",
    "  :Update = sum(:Updated),\n",
    "  :Official = sum(:Official),\n",
    "  :Diff = sum(:Diff))"
   ]
  },
  {
   "cell_type": "code",
   "execution_count": null,
   "metadata": {},
   "outputs": [],
   "source": [
    "@by(eufpol,\n",
    "  :FuelEP,\n",
    "  :Update = sum(:Updated),\n",
    "  :Official = sum(:Official),\n",
    "  :Diff = sum(:Diff))"
   ]
  },
  {
   "cell_type": "code",
   "execution_count": null,
   "metadata": {},
   "outputs": [],
   "source": [
    "eudem = J.diff(\"IOutput/EuDem\", loc1, loc2);"
   ]
  },
  {
   "cell_type": "code",
   "execution_count": null,
   "metadata": {},
   "outputs": [],
   "source": [
    "@rsubset! eudem :Year < 1987 :Area == \"NS\" :EC == \"IronSteel\" :Diff != 0"
   ]
  },
  {
   "cell_type": "code",
   "execution_count": null,
   "metadata": {},
   "outputs": [],
   "source": [
    "dmd = J.diff(\"IOutput/Dmd\", loc1, loc2);\n"
   ]
  },
  {
   "cell_type": "code",
   "execution_count": null,
   "metadata": {},
   "outputs": [],
   "source": [
    "@rsubset! dmd :Year < 1987 :Area == \"NS\" :EC == \"IronSteel\" :Diff != 0"
   ]
  },
  {
   "cell_type": "code",
   "execution_count": null,
   "metadata": {},
   "outputs": [],
   "source": [
    "dmfrac = J.var(\"IOutput/DmFrac\", loc1);\n",
    "@rsubset! dmfrac :Year < 1987 :Area == \"NS\" :EC == \"IronSteel\"\n",
    "dmfrac2 = J.var(\"IOutput/DmFrac\", loc2);\n",
    "@rsubset! dmfrac2 :Year < 1987 :Area == \"NS\" :EC == \"IronSteel\"\n",
    "dmfrac3 = J.diff(dmfrac, dmfrac2; name1=loc1.name, name2=loc2.name)\n",
    "@rsubset dmfrac3 :Diff != 0"
   ]
  },
  {
   "cell_type": "code",
   "execution_count": null,
   "metadata": {},
   "outputs": [],
   "source": [
    "DER = J.var(\"IOutput/DER\", loc1);\n",
    "@rsubset! DER :Year < 1987 :Area == \"NS\" :EC == \"IronSteel\"\n",
    "DER2 = J.var(\"IOutput/DER\", loc2);\n",
    "@rsubset! DER2 :Year < 1987 :Area == \"NS\" :EC == \"IronSteel\"\n",
    "DER3 = J.diff(DER, DER2; name1=loc1.name, name2=loc2.name)\n",
    "@rsubset DER3 :Diff != 0"
   ]
  },
  {
   "cell_type": "code",
   "execution_count": null,
   "metadata": {},
   "outputs": [],
   "source": [
    "DERA = J.var(\"IOutput/DERA\", loc1);\n",
    "@rsubset! DERA :Year < 1987 :Area == \"NS\" :EC == \"IronSteel\"\n",
    "DERA2 = J.var(\"IOutput/DERA\", loc2);\n",
    "@rsubset! DERA2 :Year < 1987 :Area == \"NS\" :EC == \"IronSteel\"\n",
    "DERA3 = J.diff(DERA, DERA2; name1=loc1.name, name2=loc2.name)\n",
    "@rsubset DERA3 :Diff != 0"
   ]
  },
  {
   "cell_type": "code",
   "execution_count": null,
   "metadata": {},
   "outputs": [],
   "source": [
    "DERR = J.var(\"IOutput/DERR\", loc1);\n",
    "@rsubset! DERR :Year < 1987 :Area == \"NS\" :EC == \"IronSteel\"\n",
    "DERR2 = J.var(\"IOutput/DERR\", loc2);\n",
    "@rsubset! DERR2 :Year < 1987 :Area == \"NS\" :EC == \"IronSteel\"\n",
    "DERR3 = J.diff(DERR, DERR2; name1=loc1.name, name2=loc2.name)\n",
    "@rsubset DERR3 :Diff != 0"
   ]
  },
  {
   "cell_type": "code",
   "execution_count": null,
   "metadata": {},
   "outputs": [],
   "source": [
    "nm = \"PInv\"\n",
    "df = J.diff(nm, loc1, loc2);\n",
    "@rsubset! df :Year < 1987 :EC == \"IronSteel\"\n"
   ]
  },
  {
   "cell_type": "code",
   "execution_count": null,
   "metadata": {},
   "outputs": [],
   "source": [
    "df2 = J.var(nm, loc2);\n",
    "@rsubset! df2 :Year < 1987 :EC == \"IronSteel\"\n",
    "df3 = J.diff(df, df2; name1=loc1.name, name2=loc2.name)\n",
    "@rsubset df3 :Diff != 0"
   ]
  },
  {
   "cell_type": "code",
   "execution_count": null,
   "metadata": {},
   "outputs": [],
   "source": [
    "dmfrac = J.var(\"IOutput/DmFrac\", loc1);\n",
    "@rsubset! dmfrac :Year < 1987 :Area == \"NS\" :EC == \"IronSteel\"\n",
    "dmfrac2 = J.var(\"IOutput/DmFrac\", loc2);\n",
    "@rsubset! dmfrac2 :Year < 1987 :Area == \"NS\" :EC == \"IronSteel\"\n",
    "dmfrac3 = J.diff(dmfrac, dmfrac2; name1=loc1.name, name2=loc2.name)\n",
    "@rsubset dmfrac3 :Diff != 0"
   ]
  },
  {
   "cell_type": "code",
   "execution_count": null,
   "metadata": {},
   "outputs": [],
   "source": [
    "xProcSw = J.var(\"IInput/xProcSw\", loc1)\n",
    "@rsubset! xProcSw :Year < 1987"
   ]
  }
 ],
 "metadata": {
  "kernelspec": {
   "display_name": "Julia 1.11.2",
   "language": "julia",
   "name": "julia-1.11"
  },
  "language_info": {
   "file_extension": ".jl",
   "mimetype": "application/julia",
   "name": "julia",
   "version": "1.11.2"
  }
 },
 "nbformat": 4,
 "nbformat_minor": 2
}
